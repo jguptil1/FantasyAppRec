{
 "cells": [
  {
   "cell_type": "markdown",
   "metadata": {},
   "source": [
    "## EDA of dataset for Model Development"
   ]
  },
  {
   "cell_type": "markdown",
   "metadata": {},
   "source": [
    "Package Imports"
   ]
  },
  {
   "cell_type": "code",
   "execution_count": 1,
   "metadata": {},
   "outputs": [],
   "source": [
    "import pandas as pd\n",
    "import numpy as np\n",
    "import matplotlib.pyplot as plt"
   ]
  },
  {
   "cell_type": "code",
   "execution_count": 11,
   "metadata": {},
   "outputs": [
    {
     "name": "stdout",
     "output_type": "stream",
     "text": [
      "c:\\Users\\jackg\\OneDrive - University of Tennessee\\FantasyAppRec\\model\n"
     ]
    }
   ],
   "source": [
    "import os\n",
    "print(os.getcwd())"
   ]
  },
  {
   "cell_type": "markdown",
   "metadata": {},
   "source": [
    "Data Imports"
   ]
  },
  {
   "cell_type": "code",
   "execution_count": 24,
   "metadata": {},
   "outputs": [
    {
     "name": "stderr",
     "output_type": "stream",
     "text": [
      "C:\\Users\\jackg\\AppData\\Local\\Temp\\ipykernel_37936\\367926283.py:7: DtypeWarning: Columns (10,12,14,31,32,33) have mixed types. Specify dtype option on import or set low_memory=False.\n",
      "  tackle_nfl_raw = pd.read_csv(base_path + 'external/tackle_nfl.csv') #DtypeWarning: Columns (10,12,14,31,32,33) have mixed types.\n"
     ]
    }
   ],
   "source": [
    "\n",
    "base_path = 'c:/Users/jackg/OneDrive - University of Tennessee/FantasyAppRec/datafiles/'\n",
    "\n",
    "combine_data_raw = pd.read_csv(base_path + 'external/combine_data.csv')\n",
    "ftn_charting_raw = pd.read_csv(base_path + 'external/ftn_charting.csv')\n",
    "injuries_raw = pd.read_csv(base_path + 'external/injuries.csv')\n",
    "rush_raw = pd.read_csv(base_path + 'external/rush.csv')\n",
    "tackle_nfl_raw = pd.read_csv(base_path + 'external/tackle_nfl.csv') #DtypeWarning: Columns (10,12,14,31,32,33) have mixed types.\n",
    "team_rosters_raw = pd.read_csv(base_path + 'external/team_rosters.csv')\n",
    "\n",
    "games_raw = pd.read_parquet(base_path + 'competition_data/games.parq', engine ='fastparquet')\n",
    "players_raw = pd.read_parquet(base_path + 'competition_data/players.parq', engine ='fastparquet')\n",
    "plays_raw = pd.read_parquet(base_path + 'competition_data/plays.parq', engine ='fastparquet')\n",
    "tackles_raw = pd.read_parquet(base_path + 'competition_data/tackles.parq', engine ='fastparquet')\n",
    "tracking_all_weeks_raw = pd.read_parquet(base_path + 'competition_data/tracking_all_weeks.parq', engine ='fastparquet')"
   ]
  },
  {
   "cell_type": "code",
   "execution_count": null,
   "metadata": {},
   "outputs": [],
   "source": []
  }
 ],
 "metadata": {
  "kernelspec": {
   "display_name": "minimal_ds",
   "language": "python",
   "name": "python3"
  },
  "language_info": {
   "codemirror_mode": {
    "name": "ipython",
    "version": 3
   },
   "file_extension": ".py",
   "mimetype": "text/x-python",
   "name": "python",
   "nbconvert_exporter": "python",
   "pygments_lexer": "ipython3",
   "version": "3.10.9"
  }
 },
 "nbformat": 4,
 "nbformat_minor": 2
}
